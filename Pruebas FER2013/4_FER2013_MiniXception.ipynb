{
  "nbformat": 4,
  "nbformat_minor": 0,
  "metadata": {
    "kernelspec": {
      "display_name": "env_tesis",
      "language": "python",
      "name": "env_tesis"
    },
    "language_info": {
      "codemirror_mode": {
        "name": "ipython",
        "version": 3
      },
      "file_extension": ".py",
      "mimetype": "text/x-python",
      "name": "python",
      "nbconvert_exporter": "python",
      "pygments_lexer": "ipython3",
      "version": "3.8.5"
    },
    "colab": {
      "name": "4_FER2013_MiniXception.ipynb",
      "provenance": [],
      "collapsed_sections": []
    }
  },
  "cells": [
    {
      "cell_type": "code",
      "metadata": {
        "id": "wwegvZBYDnMi"
      },
      "source": [
        "from glob import glob\n",
        "\n",
        "import numpy as np\n",
        "import pandas as pd\n",
        "import matplotlib.pyplot as plt\n",
        "import sys, os\n",
        "\n",
        "from tensorflow.keras.preprocessing import image\n",
        "from tensorflow.keras.preprocessing.image import ImageDataGenerator"
      ],
      "execution_count": 1,
      "outputs": []
    },
    {
      "cell_type": "code",
      "metadata": {
        "id": "b4dFGwTGDnMu"
      },
      "source": [
        "from sklearn.metrics import confusion_matrix\n",
        "from sklearn.metrics import accuracy_score, f1_score, precision_score, recall_score\n",
        "\n",
        "import matplotlib.pyplot as plt\n",
        "import seaborn as sns\n",
        "\n",
        "#Definición para el calculo de metricas multi-clase\n",
        "def calculo_metricas(CM, emociones):\n",
        "    \n",
        "    emocion = []\n",
        "    TruPos = []\n",
        "    FalPos = []\n",
        "    FalNeg = []\n",
        "    TruNeg = []\n",
        "    acc = []\n",
        "    prec = []\n",
        "    recall = []\n",
        "    f1 = []\n",
        "    \n",
        "    total = np.sum(CM)\n",
        "    \n",
        "    for i in range(len(emociones)):\n",
        "       \n",
        "        TP = CM[i][i]\n",
        "        FP = sum(CM[:,i])-TP\n",
        "        FN = sum(CM[i,:])-TP\n",
        "        TN = total - TP-FN-FP\n",
        "        a = (TP+TN)/(TP+TN+FN+FP)\n",
        "        p = TP/(TP+FP)\n",
        "        r = TP/(TP+FN)\n",
        "        f = 2*(r*p)/(r+p)\n",
        "        \n",
        "        emocion.append(emociones[i])\n",
        "        TruPos.append(TP)\n",
        "        FalPos.append(FP)\n",
        "        TruNeg.append(TN)\n",
        "        acc.append(a)\n",
        "        prec.append(p)\n",
        "        recall.append(r)\n",
        "        f1.append(f)\n",
        "    \n",
        "    metricas = pd.DataFrame()\n",
        "    metricas['Emociones']=emocion\n",
        "    metricas['Accuracy']=acc\n",
        "    metricas['Precision']=prec\n",
        "    metricas['Recall']=recall\n",
        "    metricas['F1-Score']=f1\n",
        "    \n",
        "    return metricas\n",
        "\n",
        "def graf_confusion_matrix(CM, emociones,emb):\n",
        "    fig, ax = plt.subplots(figsize=(10,10))\n",
        "    sns.heatmap(CM,annot=True,fmt='',xticklabels=emociones,yticklabels=emociones, ax=ax, cmap='Blues');\n",
        "    ax.set_title('Matriz de confusión '+emb);\n",
        "    ax.set_xlabel('Valores Predecidos');\n",
        "    ax.set_ylabel('Valores Verdaderos');\n",
        "    \n",
        "def graficar_historia_entrenamiento(log, metric='accuracy'):\n",
        "    fig, axes = plt.subplots(1, 2, figsize=(14,4))\n",
        "    ax1, ax2 = axes\n",
        "    ax1.plot(log.history['loss'], label='train')\n",
        "    ax1.plot(log.history['val_loss'], label='test')\n",
        "    ax1.set_xlabel('epoch'); ax1.set_ylabel('loss')\n",
        "    ax2.plot(log.history[metric], label='train')\n",
        "    ax2.plot(log.history['val_'+metric], label='test')\n",
        "    ax2.set_xlabel('epoch'); ax2.set_ylabel(metric)\n",
        "    #ax2.set_ylim((0.0, 1.0))\n",
        "    for ax in axes: ax.legend()"
      ],
      "execution_count": 2,
      "outputs": []
    },
    {
      "cell_type": "code",
      "metadata": {
        "id": "uNQ9Fi23oWkq",
        "colab": {
          "base_uri": "https://localhost:8080/"
        },
        "outputId": "27a04315-d2c6-4454-b830-713f7d688e46"
      },
      "source": [
        "# ================================== Cargamos la data desde drive\n",
        "from google.colab import drive\n",
        "\n",
        "drive.mount('/content/drive')\n",
        "\n",
        "# En esta parte se estan cargando los directorios correspondientes a las \n",
        "# imagenes del affectnet tanto el conjunto de entrenamiento como el de \n",
        "# validación\n",
        "train_path = '/content/drive/My Drive/Proyecto_DL/dataset_fer2013/train'\n",
        "valid_path = '/content/drive/My Drive/Proyecto_DL/dataset_fer2013/test'\n",
        "train_image_files = glob(train_path +'/*/*.jpg')\n",
        "valid_image_files = glob(valid_path +'/*/*.jpg')\n"
      ],
      "execution_count": 3,
      "outputs": [
        {
          "output_type": "stream",
          "text": [
            "Mounted at /content/drive\n"
          ],
          "name": "stdout"
        }
      ]
    },
    {
      "cell_type": "code",
      "metadata": {
        "id": "OM0hGVWgDnMw"
      },
      "source": [
        ""
      ],
      "execution_count": 3,
      "outputs": []
    },
    {
      "cell_type": "code",
      "metadata": {
        "colab": {
          "base_uri": "https://localhost:8080/"
        },
        "id": "6-zxbJm2DnMw",
        "outputId": "a7d4cabf-6d46-45f3-aa43-09c10ad140f4"
      },
      "source": [
        "# Se imprimen para verificar los directorios, existen 6 clases\n",
        "folders = glob(train_path + '/*')\n",
        "print(folders)"
      ],
      "execution_count": 4,
      "outputs": [
        {
          "output_type": "stream",
          "text": [
            "['/content/drive/My Drive/Proyecto_DL/dataset_fer2013/train/0', '/content/drive/My Drive/Proyecto_DL/dataset_fer2013/train/1', '/content/drive/My Drive/Proyecto_DL/dataset_fer2013/train/2', '/content/drive/My Drive/Proyecto_DL/dataset_fer2013/train/3', '/content/drive/My Drive/Proyecto_DL/dataset_fer2013/train/4', '/content/drive/My Drive/Proyecto_DL/dataset_fer2013/train/5']\n"
          ],
          "name": "stdout"
        }
      ]
    },
    {
      "cell_type": "code",
      "metadata": {
        "id": "AWzC7okyDnMy",
        "colab": {
          "base_uri": "https://localhost:8080/",
          "height": 269
        },
        "outputId": "00c3dbb1-185e-40da-de58-874907f49d1c"
      },
      "source": [
        "# Presentamos un ejemplo\n",
        "plt.imshow(image.load_img(np.random.choice(valid_image_files)))\n",
        "plt.show()"
      ],
      "execution_count": 5,
      "outputs": [
        {
          "output_type": "display_data",
          "data": {
            "image/png": "[encoded data removed]",
            "text/plain": [
              "<Figure size 432x288 with 1 Axes>"
            ]
          },
          "metadata": {
            "tags": [],
            "needs_background": "light"
          }
        }
      ]
    },
    {
      "cell_type": "code",
      "metadata": {
        "id": "5Zl2jyTUDnMz"
      },
      "source": [
        "IMAGE_SIZE = [64,64]\n",
        "#Se crea un Image Generator para incluir el pre-procesamiento de imagenes correspondiente a la arquitectura ResNet\n",
        "gen = ImageDataGenerator()"
      ],
      "execution_count": 6,
      "outputs": []
    },
    {
      "cell_type": "code",
      "metadata": {
        "id": "riXhrCrGDnMz",
        "colab": {
          "base_uri": "https://localhost:8080/"
        },
        "outputId": "9630334b-e563-4857-ae45-0d73b53212d6"
      },
      "source": [
        "#Se crean los generadores deimagenes a partir  de los directorios\n",
        "# con un batch-size de 128\n",
        "batch_size = 128\n",
        "\n",
        "#Generador para el conjunto de entrenamiento\n",
        "train_generator = gen.flow_from_directory(\n",
        "    train_path,\n",
        "    target_size=IMAGE_SIZE,\n",
        "    batch_size=batch_size,\n",
        "    class_mode = 'sparse'\n",
        ")\n",
        "# Generador para el conjunto de validación\n",
        "valid_generator = gen.flow_from_directory(\n",
        "    valid_path,\n",
        "    target_size=IMAGE_SIZE,\n",
        "    batch_size=batch_size,\n",
        "    class_mode = 'sparse'\n",
        ")"
      ],
      "execution_count": 7,
      "outputs": [
        {
          "output_type": "stream",
          "text": [
            "Found 21708 images belonging to 6 classes.\n",
            "Found 2982 images belonging to 6 classes.\n"
          ],
          "name": "stdout"
        }
      ]
    },
    {
      "cell_type": "code",
      "metadata": {
        "id": "wt8pxBGyDnM0"
      },
      "source": [
        "from tensorflow.keras.layers import Activation, Convolution2D, Dropout, Conv2D\n",
        "from tensorflow.keras.layers import AveragePooling2D, BatchNormalization\n",
        "from tensorflow.keras.layers import GlobalAveragePooling2D\n",
        "from tensorflow.keras.models import Sequential\n",
        "from tensorflow.keras.layers import Flatten\n",
        "from tensorflow.keras.models import Model\n",
        "from tensorflow.keras.layers import Input\n",
        "from tensorflow.keras.layers import MaxPooling2D\n",
        "from tensorflow.keras.layers import SeparableConv2D\n",
        "from tensorflow.keras import layers\n",
        "from tensorflow.keras.regularizers import l2"
      ],
      "execution_count": 8,
      "outputs": []
    },
    {
      "cell_type": "code",
      "metadata": {
        "id": "x7y_eYU1DnM0"
      },
      "source": [
        "#Modeo mi-Xception extraido de (https://github.com/oarriaga/face_classification/tree/master/src/models)\n",
        "def mini_XCEPTION(input_shape, num_classes, l2_regularization=0.01):\n",
        "    regularization = l2(l2_regularization)\n",
        "\n",
        "    # base\n",
        "    img_input = Input(input_shape)\n",
        "    x = Conv2D(8, (3, 3), strides=(1, 1), kernel_regularizer=regularization,\n",
        "               use_bias=False)(img_input)\n",
        "    x = BatchNormalization()(x)\n",
        "    x = Activation('relu')(x)\n",
        "    x = Conv2D(8, (3, 3), strides=(1, 1), kernel_regularizer=regularization,\n",
        "               use_bias=False)(x)\n",
        "    x = BatchNormalization()(x)\n",
        "    x = Activation('relu')(x)\n",
        "\n",
        "    # module 1\n",
        "    residual = Conv2D(16, (1, 1), strides=(2, 2),\n",
        "                      padding='same', use_bias=False)(x)\n",
        "    residual = BatchNormalization()(residual)\n",
        "\n",
        "    x = SeparableConv2D(16, (3, 3), padding='same',\n",
        "                        kernel_regularizer=regularization,\n",
        "                        use_bias=False)(x)\n",
        "    x = BatchNormalization()(x)\n",
        "    x = Activation('relu')(x)\n",
        "    x = SeparableConv2D(16, (3, 3), padding='same',\n",
        "                        kernel_regularizer=regularization,\n",
        "                        use_bias=False)(x)\n",
        "    x = BatchNormalization()(x)\n",
        "\n",
        "    x = MaxPooling2D((3, 3), strides=(2, 2), padding='same')(x)\n",
        "    x = layers.add([x, residual])\n",
        "\n",
        "    # module 2\n",
        "    residual = Conv2D(32, (1, 1), strides=(2, 2),\n",
        "                      padding='same', use_bias=False)(x)\n",
        "    residual = BatchNormalization()(residual)\n",
        "\n",
        "    x = SeparableConv2D(32, (3, 3), padding='same',\n",
        "                        kernel_regularizer=regularization,\n",
        "                        use_bias=False)(x)\n",
        "    x = BatchNormalization()(x)\n",
        "    x = Activation('relu')(x)\n",
        "    x = SeparableConv2D(32, (3, 3), padding='same',\n",
        "                        kernel_regularizer=regularization,\n",
        "                        use_bias=False)(x)\n",
        "    x = BatchNormalization()(x)\n",
        "\n",
        "    x = MaxPooling2D((3, 3), strides=(2, 2), padding='same')(x)\n",
        "    x = layers.add([x, residual])\n",
        "\n",
        "    # module 3\n",
        "    residual = Conv2D(64, (1, 1), strides=(2, 2),\n",
        "                      padding='same', use_bias=False)(x)\n",
        "    residual = BatchNormalization()(residual)\n",
        "\n",
        "    x = SeparableConv2D(64, (3, 3), padding='same',\n",
        "                        kernel_regularizer=regularization,\n",
        "                        use_bias=False)(x)\n",
        "    x = BatchNormalization()(x)\n",
        "    x = Activation('relu')(x)\n",
        "    x = SeparableConv2D(64, (3, 3), padding='same',\n",
        "                        kernel_regularizer=regularization,\n",
        "                        use_bias=False)(x)\n",
        "    x = BatchNormalization()(x)\n",
        "\n",
        "    x = MaxPooling2D((3, 3), strides=(2, 2), padding='same')(x)\n",
        "    x = layers.add([x, residual])\n",
        "\n",
        "    # module 4\n",
        "    residual = Conv2D(128, (1, 1), strides=(2, 2),\n",
        "                      padding='same', use_bias=False)(x)\n",
        "    residual = BatchNormalization()(residual)\n",
        "\n",
        "    x = SeparableConv2D(128, (3, 3), padding='same',\n",
        "                        kernel_regularizer=regularization,\n",
        "                        use_bias=False)(x)\n",
        "    x = BatchNormalization()(x)\n",
        "    x = Activation('relu')(x)\n",
        "    x = SeparableConv2D(128, (3, 3), padding='same',\n",
        "                        kernel_regularizer=regularization,\n",
        "                        use_bias=False)(x)\n",
        "    x = BatchNormalization()(x)\n",
        "\n",
        "    x = MaxPooling2D((3, 3), strides=(2, 2), padding='same')(x)\n",
        "    x = layers.add([x, residual])\n",
        "\n",
        "    x = Conv2D(num_classes, (3, 3),\n",
        "               # kernel_regularizer=regularization,\n",
        "               padding='same')(x)\n",
        "    x = GlobalAveragePooling2D()(x)\n",
        "    output = Activation('softmax', name='predictions')(x)\n",
        "\n",
        "    model = Model(img_input, output)\n",
        "    return model"
      ],
      "execution_count": 9,
      "outputs": []
    },
    {
      "cell_type": "code",
      "metadata": {
        "id": "oEhZykH5DnM1"
      },
      "source": [
        "#Instancia del modelo 1: mini_XCEPTION\n",
        "miniXception = mini_XCEPTION(input_shape=(64,64,3), num_classes=6)\n",
        "#miniXception.summary()"
      ],
      "execution_count": 10,
      "outputs": []
    },
    {
      "cell_type": "code",
      "metadata": {
        "id": "KguIVxIMDnM2",
        "colab": {
          "base_uri": "https://localhost:8080/"
        },
        "outputId": "394a8160-3eae-423a-ab19-135dc058d1e0"
      },
      "source": [
        "from tensorflow.keras.callbacks import EarlyStopping, ReduceLROnPlateau\n",
        "import tensorflow as tf\n",
        "#Callabacks\n",
        "patience = 10\n",
        "early_stop = EarlyStopping('val_loss',patience=patience)\n",
        "reduce_lr = ReduceLROnPlateau('val_loss',factor=0.1, patience=int(patience/4), verbose=1)\n",
        "callbacks = [early_stop, reduce_lr]\n",
        "\n",
        "miniXception.compile(optimizer='adam', \n",
        "                     loss='sparse_categorical_crossentropy', \n",
        "                     metrics=[tf.keras.metrics.sparse_categorical_accuracy])\n",
        "\n",
        "log_r = miniXception.fit(train_generator,\n",
        "                         batch_size=128,\n",
        "                         epochs=20, \n",
        "                         verbose=1, \n",
        "                         callbacks=callbacks,\n",
        "                         validation_data=valid_generator)"
      ],
      "execution_count": 11,
      "outputs": [
        {
          "output_type": "stream",
          "text": [
            "Epoch 1/20\n",
            "170/170 [==============================] - 8306s 49s/step - loss: 1.6784 - sparse_categorical_accuracy: 0.3586 - val_loss: 1.8809 - val_sparse_categorical_accuracy: 0.2384\n",
            "Epoch 2/20\n",
            "170/170 [==============================] - 331s 2s/step - loss: 1.3125 - sparse_categorical_accuracy: 0.5132 - val_loss: 1.6648 - val_sparse_categorical_accuracy: 0.2539\n",
            "Epoch 3/20\n",
            "170/170 [==============================] - 331s 2s/step - loss: 1.1710 - sparse_categorical_accuracy: 0.5742 - val_loss: 1.2990 - val_sparse_categorical_accuracy: 0.5080\n",
            "Epoch 4/20\n",
            "170/170 [==============================] - 331s 2s/step - loss: 1.0839 - sparse_categorical_accuracy: 0.5982 - val_loss: 1.2213 - val_sparse_categorical_accuracy: 0.5456\n",
            "Epoch 5/20\n",
            "170/170 [==============================] - 330s 2s/step - loss: 1.0175 - sparse_categorical_accuracy: 0.6268 - val_loss: 1.1298 - val_sparse_categorical_accuracy: 0.5835\n",
            "Epoch 6/20\n",
            "170/170 [==============================] - 330s 2s/step - loss: 0.9657 - sparse_categorical_accuracy: 0.6469 - val_loss: 1.3945 - val_sparse_categorical_accuracy: 0.4956\n",
            "Epoch 7/20\n",
            "170/170 [==============================] - 330s 2s/step - loss: 0.9033 - sparse_categorical_accuracy: 0.6690 - val_loss: 1.3592 - val_sparse_categorical_accuracy: 0.5262\n",
            "\n",
            "Epoch 00007: ReduceLROnPlateau reducing learning rate to 0.00010000000474974513.\n",
            "Epoch 8/20\n",
            "170/170 [==============================] - 330s 2s/step - loss: 0.8130 - sparse_categorical_accuracy: 0.7054 - val_loss: 1.0508 - val_sparse_categorical_accuracy: 0.6137\n",
            "Epoch 9/20\n",
            "170/170 [==============================] - 330s 2s/step - loss: 0.7688 - sparse_categorical_accuracy: 0.7319 - val_loss: 1.0674 - val_sparse_categorical_accuracy: 0.6073\n",
            "Epoch 10/20\n",
            "170/170 [==============================] - 329s 2s/step - loss: 0.7533 - sparse_categorical_accuracy: 0.7436 - val_loss: 1.0443 - val_sparse_categorical_accuracy: 0.6113\n",
            "Epoch 11/20\n",
            "170/170 [==============================] - 329s 2s/step - loss: 0.7363 - sparse_categorical_accuracy: 0.7474 - val_loss: 1.0487 - val_sparse_categorical_accuracy: 0.6184\n",
            "Epoch 12/20\n",
            "170/170 [==============================] - 330s 2s/step - loss: 0.7308 - sparse_categorical_accuracy: 0.7538 - val_loss: 1.0616 - val_sparse_categorical_accuracy: 0.6127\n",
            "\n",
            "Epoch 00012: ReduceLROnPlateau reducing learning rate to 1.0000000474974514e-05.\n",
            "Epoch 13/20\n",
            "170/170 [==============================] - 330s 2s/step - loss: 0.7139 - sparse_categorical_accuracy: 0.7569 - val_loss: 1.0423 - val_sparse_categorical_accuracy: 0.6137\n",
            "Epoch 14/20\n",
            "170/170 [==============================] - 329s 2s/step - loss: 0.7172 - sparse_categorical_accuracy: 0.7563 - val_loss: 1.0419 - val_sparse_categorical_accuracy: 0.6154\n",
            "Epoch 15/20\n",
            "170/170 [==============================] - 329s 2s/step - loss: 0.7114 - sparse_categorical_accuracy: 0.7576 - val_loss: 1.0412 - val_sparse_categorical_accuracy: 0.6147\n",
            "Epoch 16/20\n",
            "170/170 [==============================] - 329s 2s/step - loss: 0.7041 - sparse_categorical_accuracy: 0.7604 - val_loss: 1.0450 - val_sparse_categorical_accuracy: 0.6174\n",
            "Epoch 17/20\n",
            "170/170 [==============================] - 330s 2s/step - loss: 0.7134 - sparse_categorical_accuracy: 0.7609 - val_loss: 1.0436 - val_sparse_categorical_accuracy: 0.6157\n",
            "\n",
            "Epoch 00017: ReduceLROnPlateau reducing learning rate to 1.0000000656873453e-06.\n",
            "Epoch 18/20\n",
            "170/170 [==============================] - 330s 2s/step - loss: 0.7106 - sparse_categorical_accuracy: 0.7578 - val_loss: 1.0428 - val_sparse_categorical_accuracy: 0.6127\n",
            "Epoch 19/20\n",
            "170/170 [==============================] - 329s 2s/step - loss: 0.7138 - sparse_categorical_accuracy: 0.7553 - val_loss: 1.0431 - val_sparse_categorical_accuracy: 0.6133\n",
            "\n",
            "Epoch 00019: ReduceLROnPlateau reducing learning rate to 1.0000001111620805e-07.\n",
            "Epoch 20/20\n",
            "170/170 [==============================] - 329s 2s/step - loss: 0.7078 - sparse_categorical_accuracy: 0.7589 - val_loss: 1.0430 - val_sparse_categorical_accuracy: 0.6144\n"
          ],
          "name": "stdout"
        }
      ]
    },
    {
      "cell_type": "code",
      "metadata": {
        "id": "DVwW4gJuDnM2",
        "colab": {
          "base_uri": "https://localhost:8080/",
          "height": 279
        },
        "outputId": "22afd4d5-78be-4a39-c37a-fe5263aeb1a5"
      },
      "source": [
        "graficar_historia_entrenamiento(log_r, metric='sparse_categorical_accuracy')"
      ],
      "execution_count": 12,
      "outputs": [
        {
          "output_type": "display_data",
          "data": {
            "image/png": "[encoded data removed]",
            "text/plain": [
              "<Figure size 1008x288 with 2 Axes>"
            ]
          },
          "metadata": {
            "tags": [],
            "needs_background": "light"
          }
        }
      ]
    },
    {
      "cell_type": "code",
      "metadata": {
        "id": "2pOJDDwVDnM3",
        "colab": {
          "base_uri": "https://localhost:8080/"
        },
        "outputId": "ce3d189c-90d4-4d43-b980-a726bcae4c4a"
      },
      "source": [
        "N_valid = len(valid_image_files)\n",
        "Y_valid = np.zeros(N_valid)\n",
        "Y_pred = np.zeros(N_valid)\n",
        "\n",
        "i = 0\n",
        "for x, y in valid_generator:\n",
        "    pred = miniXception.predict(x)\n",
        "  \n",
        "    sz = len(y) \n",
        "    Y_pred[i:i+sz]= np.argmax(pred,axis=1)\n",
        "    Y_valid[i:i+sz]=y\n",
        "\n",
        "    i += sz\n",
        "    if i%1280==0:\n",
        "        print(i)\n",
        "\n",
        "    if i>=N_valid:\n",
        "        print('breaking now')\n",
        "        break\n",
        "\n",
        "print(i)"
      ],
      "execution_count": 13,
      "outputs": [
        {
          "output_type": "stream",
          "text": [
            "1280\n",
            "2560\n",
            "breaking now\n",
            "2982\n"
          ],
          "name": "stdout"
        }
      ]
    },
    {
      "cell_type": "code",
      "metadata": {
        "id": "qZy37ZdSDnM4",
        "colab": {
          "base_uri": "https://localhost:8080/"
        },
        "outputId": "2b547c75-ce2b-4169-80df-9a082ab032c2"
      },
      "source": [
        "ind = 235\n",
        "print(Y_valid[ind], Y_pred[ind])"
      ],
      "execution_count": 14,
      "outputs": [
        {
          "output_type": "stream",
          "text": [
            "1.0 0.0\n"
          ],
          "name": "stdout"
        }
      ]
    },
    {
      "cell_type": "code",
      "metadata": {
        "id": "lJupcl1aDnM5",
        "colab": {
          "base_uri": "https://localhost:8080/",
          "height": 621
        },
        "outputId": "ccfa828d-1ee2-4098-87b1-cbe3814660c3"
      },
      "source": [
        "emo_dict = {0: 'happy', 1: 'sad', 2: 'surprise', 3: 'fear', 4: 'disgust-contempt', 5: 'anger'}\n",
        "emociones_1 = list(emo_dict.values())\n",
        "\n",
        "CM_mini = confusion_matrix(Y_valid, Y_pred)\n",
        "graf_confusion_matrix(CM_mini, emociones_1 ,'mini-Xception')"
      ],
      "execution_count": 15,
      "outputs": [
        {
          "output_type": "display_data",
          "data": {
            "image/png": "[encoded data removed]",
            "text/plain": [
              "<Figure size 720x720 with 2 Axes>"
            ]
          },
          "metadata": {
            "tags": [],
            "needs_background": "light"
          }
        }
      ]
    },
    {
      "cell_type": "code",
      "metadata": {
        "id": "awN_nWJCDnM5",
        "colab": {
          "base_uri": "https://localhost:8080/",
          "height": 235
        },
        "outputId": "34b56e79-89ad-4d90-d658-639ae6ae1bc3"
      },
      "source": [
        "m1 = calculo_metricas(CM_mini, emociones_1)\n",
        "m1"
      ],
      "execution_count": 16,
      "outputs": [
        {
          "output_type": "execute_result",
          "data": {
            "text/html": [
              "<div>\n",
              "<style scoped>\n",
              "    .dataframe tbody tr th:only-of-type {\n",
              "        vertical-align: middle;\n",
              "    }\n",
              "\n",
              "    .dataframe tbody tr th {\n",
              "        vertical-align: top;\n",
              "    }\n",
              "\n",
              "    .dataframe thead th {\n",
              "        text-align: right;\n",
              "    }\n",
              "</style>\n",
              "<table border=\"1\" class=\"dataframe\">\n",
              "  <thead>\n",
              "    <tr style=\"text-align: right;\">\n",
              "      <th></th>\n",
              "      <th>Emociones</th>\n",
              "      <th>Accuracy</th>\n",
              "      <th>Precision</th>\n",
              "      <th>Recall</th>\n",
              "      <th>F1-Score</th>\n",
              "    </tr>\n",
              "  </thead>\n",
              "  <tbody>\n",
              "    <tr>\n",
              "      <th>0</th>\n",
              "      <td>happy</td>\n",
              "      <td>0.884306</td>\n",
              "      <td>0.798913</td>\n",
              "      <td>0.821229</td>\n",
              "      <td>0.809917</td>\n",
              "    </tr>\n",
              "    <tr>\n",
              "      <th>1</th>\n",
              "      <td>sad</td>\n",
              "      <td>0.790744</td>\n",
              "      <td>0.520685</td>\n",
              "      <td>0.558959</td>\n",
              "      <td>0.539143</td>\n",
              "    </tr>\n",
              "    <tr>\n",
              "      <th>2</th>\n",
              "      <td>surprise</td>\n",
              "      <td>0.919852</td>\n",
              "      <td>0.707547</td>\n",
              "      <td>0.722892</td>\n",
              "      <td>0.715137</td>\n",
              "    </tr>\n",
              "    <tr>\n",
              "      <th>3</th>\n",
              "      <td>fear</td>\n",
              "      <td>0.812542</td>\n",
              "      <td>0.421446</td>\n",
              "      <td>0.340726</td>\n",
              "      <td>0.376812</td>\n",
              "    </tr>\n",
              "    <tr>\n",
              "      <th>4</th>\n",
              "      <td>disgust-contempt</td>\n",
              "      <td>0.983233</td>\n",
              "      <td>0.615385</td>\n",
              "      <td>0.285714</td>\n",
              "      <td>0.390244</td>\n",
              "    </tr>\n",
              "    <tr>\n",
              "      <th>5</th>\n",
              "      <td>anger</td>\n",
              "      <td>0.838028</td>\n",
              "      <td>0.484314</td>\n",
              "      <td>0.528908</td>\n",
              "      <td>0.505629</td>\n",
              "    </tr>\n",
              "  </tbody>\n",
              "</table>\n",
              "</div>"
            ],
            "text/plain": [
              "          Emociones  Accuracy  Precision    Recall  F1-Score\n",
              "0             happy  0.884306   0.798913  0.821229  0.809917\n",
              "1               sad  0.790744   0.520685  0.558959  0.539143\n",
              "2          surprise  0.919852   0.707547  0.722892  0.715137\n",
              "3              fear  0.812542   0.421446  0.340726  0.376812\n",
              "4  disgust-contempt  0.983233   0.615385  0.285714  0.390244\n",
              "5             anger  0.838028   0.484314  0.528908  0.505629"
            ]
          },
          "metadata": {
            "tags": []
          },
          "execution_count": 16
        }
      ]
    },
    {
      "cell_type": "code",
      "metadata": {
        "id": "g_7AOZCODnM6",
        "colab": {
          "base_uri": "https://localhost:8080/"
        },
        "outputId": "7fa5cc89-1d14-439b-b22b-4c45dccf4a14"
      },
      "source": [
        "m1.mean()"
      ],
      "execution_count": 17,
      "outputs": [
        {
          "output_type": "execute_result",
          "data": {
            "text/plain": [
              "Accuracy     0.871451\n",
              "Precision    0.591382\n",
              "Recall       0.543071\n",
              "F1-Score     0.556147\n",
              "dtype: float64"
            ]
          },
          "metadata": {
            "tags": []
          },
          "execution_count": 17
        }
      ]
    },
    {
      "cell_type": "code",
      "metadata": {
        "id": "n5LRRPPaDnM8"
      },
      "source": [
        "# Guardamos el modelo Final\n",
        "miniXception.save('miniXception_fer2013_emotions_v1_20epochs.h5')"
      ],
      "execution_count": 18,
      "outputs": []
    }
  ]
}
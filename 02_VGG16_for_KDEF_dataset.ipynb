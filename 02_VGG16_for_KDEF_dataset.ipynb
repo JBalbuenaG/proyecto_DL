{
  "nbformat": 4,
  "nbformat_minor": 0,
  "metadata": {
    "colab": {
      "name": "02_VGG16_for_KDEF_dataset.ipynb",
      "provenance": [],
      "authorship_tag": "ABX9TyNhBnjKTUwhhiEBEhuRq2xe",
      "include_colab_link": true
    },
    "kernelspec": {
      "name": "python3",
      "display_name": "Python 3"
    }
  },
  "cells": [
    {
      "cell_type": "markdown",
      "metadata": {
        "id": "view-in-github",
        "colab_type": "text"
      },
      "source": [
        "<a href=\"https://colab.research.google.com/github/JBalbuenaG/proyecto_DL/blob/main/02_VGG16_for_KDEF_dataset.ipynb\" target=\"_parent\"><img src=\"https://colab.research.google.com/assets/colab-badge.svg\" alt=\"Open In Colab\"/></a>"
      ]
    },
    {
      "cell_type": "code",
      "metadata": {
        "colab": {
          "base_uri": "https://localhost:8080/"
        },
        "id": "kxS80pBMtWh8",
        "outputId": "733bf9dd-ad04-404c-ce31-a78958b5db83"
      },
      "source": [
        "import tensorflow as tf\n",
        "\n",
        "from tensorflow.keras.layers import Input, Dense, Flatten, Dropout\n",
        "from tensorflow.keras.applications.vgg16 import VGG16 as PretrainedModel, preprocess_input\n",
        "from tensorflow.keras.models import Model\n",
        "from tensorflow.keras.optimizers import SGD, Adam\n",
        "from tensorflow.keras.preprocessing import image\n",
        "from tensorflow.keras.preprocessing.image import ImageDataGenerator\n",
        "\n",
        "import numpy as np\n",
        "import pandas as pd\n",
        "import matplotlib.pyplot as plt\n",
        "import sys, os, glob\n",
        "\n",
        "from google.colab import drive\n",
        "\n",
        "drive.mount('/content/drive')"
      ],
      "execution_count": 1,
      "outputs": [
        {
          "output_type": "stream",
          "text": [
            "Mounted at /content/drive\n"
          ],
          "name": "stdout"
        }
      ]
    },
    {
      "cell_type": "code",
      "metadata": {
        "id": "oYFC8mN9tj_U"
      },
      "source": [
        "X_train = np.load('/content/drive/My Drive/Examen_DL/data/X_train_KDEF-emotions.npy')\n",
        "Y_train = np.load('/content/drive/My Drive/Examen_DL/data/Y_train_KDEF-emotions.npy')\n",
        "X_valid = np.load('/content/drive/My Drive/Examen_DL/data/X_valid_KDEF-emotions.npy')\n",
        "Y_valid = np.load('/content/drive/My Drive/Examen_DL/data/Y_valid_KDEF-emotions.npy')"
      ],
      "execution_count": 2,
      "outputs": []
    },
    {
      "cell_type": "code",
      "metadata": {
        "id": "bh6azvvevjEB"
      },
      "source": [
        "# emotions keys()\n",
        "emo_dict = {0: 'happy', 1: 'sad',\n",
        "                     2: 'surprise', 3: 'fear',\n",
        "                     4: 'disgust-contempt', 5: 'anger'}"
      ],
      "execution_count": 3,
      "outputs": []
    },
    {
      "cell_type": "code",
      "metadata": {
        "id": "3pqbGlbjvC-K",
        "colab": {
          "base_uri": "https://localhost:8080/"
        },
        "outputId": "5a771269-f148-4dd3-e09c-ca1fc48b8298"
      },
      "source": [
        "#Set image size because the image are too large\n",
        "IMAGE_SIZE = [200,200]\n",
        "ptm = PretrainedModel(\n",
        "    input_shape=IMAGE_SIZE+[3],\n",
        "    weights='imagenet',\n",
        "    include_top=False)\n",
        "\n",
        "ptm.trainable = False"
      ],
      "execution_count": 4,
      "outputs": [
        {
          "output_type": "stream",
          "text": [
            "Downloading data from https://storage.googleapis.com/tensorflow/keras-applications/vgg16/vgg16_weights_tf_dim_ordering_tf_kernels_notop.h5\n",
            "58892288/58889256 [==============================] - 0s 0us/step\n"
          ],
          "name": "stdout"
        }
      ]
    },
    {
      "cell_type": "code",
      "metadata": {
        "colab": {
          "base_uri": "https://localhost:8080/"
        },
        "id": "HuY-uUjgvGuj",
        "outputId": "0ce0150b-a97f-41c7-de33-eaba2b1676e0"
      },
      "source": [
        "#map the data into features vectors\n",
        "K = len(emo_dict) #number of classes\n",
        "x = Flatten()(ptm.output)\n",
        "#x = Dense(K,activation='softmax')(x)\n",
        "\n",
        "model = Model(inputs=ptm.input, outputs=x)\n",
        "model.summary()"
      ],
      "execution_count": 5,
      "outputs": [
        {
          "output_type": "stream",
          "text": [
            "Model: \"functional_1\"\n",
            "_________________________________________________________________\n",
            "Layer (type)                 Output Shape              Param #   \n",
            "=================================================================\n",
            "input_1 (InputLayer)         [(None, 200, 200, 3)]     0         \n",
            "_________________________________________________________________\n",
            "block1_conv1 (Conv2D)        (None, 200, 200, 64)      1792      \n",
            "_________________________________________________________________\n",
            "block1_conv2 (Conv2D)        (None, 200, 200, 64)      36928     \n",
            "_________________________________________________________________\n",
            "block1_pool (MaxPooling2D)   (None, 100, 100, 64)      0         \n",
            "_________________________________________________________________\n",
            "block2_conv1 (Conv2D)        (None, 100, 100, 128)     73856     \n",
            "_________________________________________________________________\n",
            "block2_conv2 (Conv2D)        (None, 100, 100, 128)     147584    \n",
            "_________________________________________________________________\n",
            "block2_pool (MaxPooling2D)   (None, 50, 50, 128)       0         \n",
            "_________________________________________________________________\n",
            "block3_conv1 (Conv2D)        (None, 50, 50, 256)       295168    \n",
            "_________________________________________________________________\n",
            "block3_conv2 (Conv2D)        (None, 50, 50, 256)       590080    \n",
            "_________________________________________________________________\n",
            "block3_conv3 (Conv2D)        (None, 50, 50, 256)       590080    \n",
            "_________________________________________________________________\n",
            "block3_pool (MaxPooling2D)   (None, 25, 25, 256)       0         \n",
            "_________________________________________________________________\n",
            "block4_conv1 (Conv2D)        (None, 25, 25, 512)       1180160   \n",
            "_________________________________________________________________\n",
            "block4_conv2 (Conv2D)        (None, 25, 25, 512)       2359808   \n",
            "_________________________________________________________________\n",
            "block4_conv3 (Conv2D)        (None, 25, 25, 512)       2359808   \n",
            "_________________________________________________________________\n",
            "block4_pool (MaxPooling2D)   (None, 12, 12, 512)       0         \n",
            "_________________________________________________________________\n",
            "block5_conv1 (Conv2D)        (None, 12, 12, 512)       2359808   \n",
            "_________________________________________________________________\n",
            "block5_conv2 (Conv2D)        (None, 12, 12, 512)       2359808   \n",
            "_________________________________________________________________\n",
            "block5_conv3 (Conv2D)        (None, 12, 12, 512)       2359808   \n",
            "_________________________________________________________________\n",
            "block5_pool (MaxPooling2D)   (None, 6, 6, 512)         0         \n",
            "_________________________________________________________________\n",
            "flatten (Flatten)            (None, 18432)             0         \n",
            "=================================================================\n",
            "Total params: 14,714,688\n",
            "Trainable params: 0\n",
            "Non-trainable params: 14,714,688\n",
            "_________________________________________________________________\n"
          ],
          "name": "stdout"
        }
      ]
    },
    {
      "cell_type": "code",
      "metadata": {
        "id": "EtiuugES0b3h"
      },
      "source": [
        "from sklearn.metrics import confusion_matrix\n",
        "from sklearn.metrics import accuracy_score, f1_score, precision_score, recall_score\n",
        "\n",
        "import matplotlib.pyplot as plt\n",
        "import seaborn as sns\n",
        "\n",
        "#Definición para el calculo de metricas multi-clase\n",
        "def calculo_metricas(CM, emociones):\n",
        "    \n",
        "    emocion = []\n",
        "    TruPos = []\n",
        "    FalPos = []\n",
        "    FalNeg = []\n",
        "    TruNeg = []\n",
        "    acc = []\n",
        "    prec = []\n",
        "    recall = []\n",
        "    f1 = []\n",
        "    \n",
        "    total = np.sum(CM)\n",
        "    \n",
        "    for i in range(len(emociones)):\n",
        "       \n",
        "        TP = CM[i][i]\n",
        "        FP = sum(CM[:,i])-TP\n",
        "        FN = sum(CM[i,:])-TP\n",
        "        TN = total - TP-FN-FP\n",
        "        a = (TP+TN)/(TP+TN+FN+FP)\n",
        "        p = TP/(TP+FP)\n",
        "        r = TP/(TP+FN)\n",
        "        f = 2*(r*p)/(r+p)\n",
        "        \n",
        "        emocion.append(emociones[i])\n",
        "        TruPos.append(TP)\n",
        "        FalPos.append(FP)\n",
        "        TruNeg.append(TN)\n",
        "        acc.append(a)\n",
        "        prec.append(p)\n",
        "        recall.append(r)\n",
        "        f1.append(f)\n",
        "    \n",
        "    metricas = pd.DataFrame()\n",
        "    metricas['Emociones']=emocion\n",
        "    metricas['Accuracy']=acc\n",
        "    metricas['Precision']=prec\n",
        "    metricas['Recall']=recall\n",
        "    metricas['F1-Score']=f1\n",
        "    \n",
        "    return metricas\n",
        "\n",
        "def graf_confusion_matrix(CM, emociones,emb):\n",
        "    fig, ax = plt.subplots(figsize=(10,10))\n",
        "    sns.heatmap(CM,annot=True,fmt='',xticklabels=emociones,yticklabels=emociones, ax=ax, cmap='Blues');\n",
        "    ax.set_title('Matriz de confusión '+emb);\n",
        "    ax.set_xlabel('Valores Predecidos');\n",
        "    ax.set_ylabel('Valores Verdaderos');\n",
        "    \n",
        "def graficar_historia_entrenamiento(log):\n",
        "    fig, axes = plt.subplots(1, 2, figsize=(14,4))\n",
        "    ax1, ax2 = axes\n",
        "    ax1.plot(log.history['loss'], label='train')\n",
        "    ax1.plot(log.history['val_loss'], label='test')\n",
        "    ax1.set_xlabel('epoch'); ax1.set_ylabel('loss')\n",
        "    ax2.plot(log.history['accuracy'], label='train')\n",
        "    ax2.plot(log.history['val_accuracy'], label='test')\n",
        "    ax2.set_xlabel('epoch'); ax2.set_ylabel('accuracy')\n",
        "    #ax2.set_ylim((0.0, 1.0))\n",
        "    for ax in axes: ax.legend()"
      ],
      "execution_count": 6,
      "outputs": []
    },
    {
      "cell_type": "code",
      "metadata": {
        "id": "mFcp65FounCv"
      },
      "source": [
        "feat = model.predict(np.random.random([1]+IMAGE_SIZE+[3]))\n",
        "D = feat.shape[1]\n",
        "\n",
        "#Modelo de red neuronal para clasificación binaria\n",
        "i = Input(shape=(D,))\n",
        "x = Dense(4096, activation='relu')(i)\n",
        "x = Dropout(0.2)(x)\n",
        "x = Dense(4096, activation='relu')(x)\n",
        "x = Dense(6, activation='softmax')(x)\n",
        "\n",
        "emo_model = Model(i ,x)\n",
        "\n",
        "emo_model.compile(\n",
        "    loss='sparse_categorical_crossentropy',\n",
        "    optimizer='adam',\n",
        "    metrics='accuracy'\n",
        ")\n"
      ],
      "execution_count": 7,
      "outputs": []
    },
    {
      "cell_type": "code",
      "metadata": {
        "colab": {
          "base_uri": "https://localhost:8080/"
        },
        "id": "KT_akQjUwIsO",
        "outputId": "e4501a59-d7c6-48ae-a5fa-253bfe1a3d83"
      },
      "source": [
        "r = emo_model.fit(\n",
        "    X_train, Y_train,\n",
        "    batch_size=128,\n",
        "    epochs=10,\n",
        "    validation_data=(X_valid,Y_valid)\n",
        ")"
      ],
      "execution_count": 8,
      "outputs": [
        {
          "output_type": "stream",
          "text": [
            "Epoch 1/10\n",
            "27/27 [==============================] - 36s 1s/step - loss: 11.1560 - accuracy: 0.2391 - val_loss: 1.5144 - val_accuracy: 0.3607\n",
            "Epoch 2/10\n",
            "27/27 [==============================] - 38s 1s/step - loss: 1.3824 - accuracy: 0.4220 - val_loss: 1.2403 - val_accuracy: 0.4774\n",
            "Epoch 3/10\n",
            "27/27 [==============================] - 39s 1s/step - loss: 1.1134 - accuracy: 0.5381 - val_loss: 1.0856 - val_accuracy: 0.5643\n",
            "Epoch 4/10\n",
            "27/27 [==============================] - 39s 1s/step - loss: 0.9142 - accuracy: 0.6397 - val_loss: 1.0049 - val_accuracy: 0.5940\n",
            "Epoch 5/10\n",
            "27/27 [==============================] - 38s 1s/step - loss: 0.7339 - accuracy: 0.7147 - val_loss: 0.9483 - val_accuracy: 0.6226\n",
            "Epoch 6/10\n",
            "27/27 [==============================] - 38s 1s/step - loss: 0.6448 - accuracy: 0.7442 - val_loss: 0.9449 - val_accuracy: 0.6226\n",
            "Epoch 7/10\n",
            "27/27 [==============================] - 39s 1s/step - loss: 0.5441 - accuracy: 0.7921 - val_loss: 0.9556 - val_accuracy: 0.6321\n",
            "Epoch 8/10\n",
            "27/27 [==============================] - 38s 1s/step - loss: 0.4799 - accuracy: 0.8216 - val_loss: 0.8912 - val_accuracy: 0.6607\n",
            "Epoch 9/10\n",
            "27/27 [==============================] - 36s 1s/step - loss: 0.4780 - accuracy: 0.8198 - val_loss: 1.0381 - val_accuracy: 0.6333\n",
            "Epoch 10/10\n",
            "27/27 [==============================] - 39s 1s/step - loss: 0.4076 - accuracy: 0.8487 - val_loss: 0.9666 - val_accuracy: 0.6488\n"
          ],
          "name": "stdout"
        }
      ]
    },
    {
      "cell_type": "code",
      "metadata": {
        "id": "El8uYr5Bxvpa"
      },
      "source": [
        "p = emo_model.predict(X_valid)\n",
        "pred = np.argmax(p, axis=1)\n",
        "\n",
        "Y_valid = Y_valid.astype(int)\n"
      ],
      "execution_count": 9,
      "outputs": []
    },
    {
      "cell_type": "code",
      "metadata": {
        "colab": {
          "base_uri": "https://localhost:8080/",
          "height": 621
        },
        "id": "cPVCD9qXx23w",
        "outputId": "f9c32a08-4e22-4963-c7b7-ea4e65ecab26"
      },
      "source": [
        "emo_dict = {0: 'happy', 1: 'sad', 2: 'surprise', 3: 'fear', 4: 'disgust-contempt', 5: 'anger'}\n",
        "emociones_1 = list(emo_dict.values())\n",
        "\n",
        "CM_VGG = confusion_matrix(Y_valid, pred)\n",
        "graf_confusion_matrix(CM_VGG, emociones_1 ,'VGG16')\n"
      ],
      "execution_count": 10,
      "outputs": [
        {
          "output_type": "display_data",
          "data": {
            "image/png": "[encoded data removed]",
            "text/plain": [
              "<Figure size 720x720 with 2 Axes>"
            ]
          },
          "metadata": {
            "tags": [],
            "needs_background": "light"
          }
        }
      ]
    },
    {
      "cell_type": "code",
      "metadata": {
        "colab": {
          "base_uri": "https://localhost:8080/",
          "height": 235
        },
        "id": "rtqU1opZyAnE",
        "outputId": "8c917dae-69ca-47b3-9b7b-025865025bed"
      },
      "source": [
        "m1 = calculo_metricas(CM_VGG, emociones_1)\n",
        "m1\n"
      ],
      "execution_count": 11,
      "outputs": [
        {
          "output_type": "execute_result",
          "data": {
            "text/html": [
              "<div>\n",
              "<style scoped>\n",
              "    .dataframe tbody tr th:only-of-type {\n",
              "        vertical-align: middle;\n",
              "    }\n",
              "\n",
              "    .dataframe tbody tr th {\n",
              "        vertical-align: top;\n",
              "    }\n",
              "\n",
              "    .dataframe thead th {\n",
              "        text-align: right;\n",
              "    }\n",
              "</style>\n",
              "<table border=\"1\" class=\"dataframe\">\n",
              "  <thead>\n",
              "    <tr style=\"text-align: right;\">\n",
              "      <th></th>\n",
              "      <th>Emociones</th>\n",
              "      <th>Accuracy</th>\n",
              "      <th>Precision</th>\n",
              "      <th>Recall</th>\n",
              "      <th>F1-Score</th>\n",
              "    </tr>\n",
              "  </thead>\n",
              "  <tbody>\n",
              "    <tr>\n",
              "      <th>0</th>\n",
              "      <td>happy</td>\n",
              "      <td>0.942857</td>\n",
              "      <td>0.883333</td>\n",
              "      <td>0.757143</td>\n",
              "      <td>0.815385</td>\n",
              "    </tr>\n",
              "    <tr>\n",
              "      <th>1</th>\n",
              "      <td>sad</td>\n",
              "      <td>0.834524</td>\n",
              "      <td>0.503356</td>\n",
              "      <td>0.535714</td>\n",
              "      <td>0.519031</td>\n",
              "    </tr>\n",
              "    <tr>\n",
              "      <th>2</th>\n",
              "      <td>surprise</td>\n",
              "      <td>0.884524</td>\n",
              "      <td>0.759036</td>\n",
              "      <td>0.450000</td>\n",
              "      <td>0.565022</td>\n",
              "    </tr>\n",
              "    <tr>\n",
              "      <th>3</th>\n",
              "      <td>fear</td>\n",
              "      <td>0.847619</td>\n",
              "      <td>0.535714</td>\n",
              "      <td>0.642857</td>\n",
              "      <td>0.584416</td>\n",
              "    </tr>\n",
              "    <tr>\n",
              "      <th>4</th>\n",
              "      <td>disgust-contempt</td>\n",
              "      <td>0.863095</td>\n",
              "      <td>0.569832</td>\n",
              "      <td>0.728571</td>\n",
              "      <td>0.639498</td>\n",
              "    </tr>\n",
              "    <tr>\n",
              "      <th>5</th>\n",
              "      <td>anger</td>\n",
              "      <td>0.925000</td>\n",
              "      <td>0.773050</td>\n",
              "      <td>0.778571</td>\n",
              "      <td>0.775801</td>\n",
              "    </tr>\n",
              "  </tbody>\n",
              "</table>\n",
              "</div>"
            ],
            "text/plain": [
              "          Emociones  Accuracy  Precision    Recall  F1-Score\n",
              "0             happy  0.942857   0.883333  0.757143  0.815385\n",
              "1               sad  0.834524   0.503356  0.535714  0.519031\n",
              "2          surprise  0.884524   0.759036  0.450000  0.565022\n",
              "3              fear  0.847619   0.535714  0.642857  0.584416\n",
              "4  disgust-contempt  0.863095   0.569832  0.728571  0.639498\n",
              "5             anger  0.925000   0.773050  0.778571  0.775801"
            ]
          },
          "metadata": {
            "tags": []
          },
          "execution_count": 11
        }
      ]
    },
    {
      "cell_type": "code",
      "metadata": {
        "id": "Ue11KdvJ1KZB"
      },
      "source": [
        "emo_model.save('mod_VGG16_emotions_KDEF_tst01.h5')"
      ],
      "execution_count": 12,
      "outputs": []
    }
  ]
}
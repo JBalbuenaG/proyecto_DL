{
  "nbformat": 4,
  "nbformat_minor": 0,
  "metadata": {
    "colab": {
      "name": "VGG16_for_KDEF_dataset.ipynb",
      "provenance": [],
      "authorship_tag": "ABX9TyNvoq+BrE37lWS6volUDp9M"
    },
    "kernelspec": {
      "name": "python3",
      "display_name": "Python 3"
    }
  },
  "cells": [
    {
      "cell_type": "code",
      "metadata": {
        "colab": {
          "base_uri": "https://localhost:8080/"
        },
        "id": "kxS80pBMtWh8",
        "outputId": "5c7a17fe-6bbd-4695-8dc0-957ddaba1b52"
      },
      "source": [
        "import tensorflow as tf\n",
        "\n",
        "from tensorflow.keras.layers import Input, Dense, Flatten, Dropout\n",
        "from tensorflow.keras.applications.vgg16 import VGG16 as PretrainedModel, preprocess_input\n",
        "from tensorflow.keras.models import Model\n",
        "from tensorflow.keras.optimizers import SGD, Adam\n",
        "from tensorflow.keras.preprocessing import image\n",
        "from tensorflow.keras.preprocessing.image import ImageDataGenerator\n",
        "\n",
        "import numpy as np\n",
        "import pandas as pd\n",
        "import matplotlib.pyplot as plt\n",
        "import sys, os, glob\n",
        "\n",
        "from google.colab import drive\n",
        "\n",
        "drive.mount('/content/drive')"
      ],
      "execution_count": 1,
      "outputs": [
        {
          "output_type": "stream",
          "text": [
            "Mounted at /content/drive\n"
          ],
          "name": "stdout"
        }
      ]
    },
    {
      "cell_type": "code",
      "metadata": {
        "id": "oYFC8mN9tj_U"
      },
      "source": [
        "X_train = np.load('/content/drive/My Drive/Examen_DL/data/X_train_ResNet50.npy')\n",
        "Y_train = np.load('/content/drive/My Drive/Examen_DL/data/Y_train_ResNet50.npy')\n",
        "X_valid = np.load('/content/drive/My Drive/Examen_DL/data/X_valid_ResNet50.npy')\n",
        "Y_valid = np.load('/content/drive/My Drive/Examen_DL/data/Y_valid_ResNet50.npy')"
      ],
      "execution_count": 2,
      "outputs": []
    },
    {
      "cell_type": "code",
      "metadata": {
        "colab": {
          "base_uri": "https://localhost:8080/"
        },
        "id": "bh6azvvevjEB",
        "outputId": "3d8b8529-2f6e-49e4-ffb8-faa57cee44a4"
      },
      "source": [
        "emo_dict = {0: 'happy', 1: 'sad',\n",
        "                     2: 'surprise', 3: 'fear',\n",
        "                     4: 'disgust-contempt', 5: 'anger'}\n",
        "\n"
      ],
      "execution_count": 7,
      "outputs": [
        {
          "output_type": "execute_result",
          "data": {
            "text/plain": [
              "6"
            ]
          },
          "metadata": {
            "tags": []
          },
          "execution_count": 7
        }
      ]
    },
    {
      "cell_type": "code",
      "metadata": {
        "colab": {
          "base_uri": "https://localhost:8080/"
        },
        "id": "3pqbGlbjvC-K",
        "outputId": "002e7731-2517-4618-f984-449b7ca67a44"
      },
      "source": [
        "#Set image size because the image are too large\n",
        "IMAGE_SIZE = [200,200]\n",
        "ptm = PretrainedModel(\n",
        "    input_shape=IMAGE_SIZE+[3],\n",
        "    weights='imagenet',\n",
        "    include_top=False)\n",
        "\n",
        "ptm.trainable = False"
      ],
      "execution_count": 5,
      "outputs": [
        {
          "output_type": "stream",
          "text": [
            "Downloading data from https://storage.googleapis.com/tensorflow/keras-applications/vgg16/vgg16_weights_tf_dim_ordering_tf_kernels_notop.h5\n",
            "58892288/58889256 [==============================] - 0s 0us/step\n"
          ],
          "name": "stdout"
        }
      ]
    },
    {
      "cell_type": "code",
      "metadata": {
        "colab": {
          "base_uri": "https://localhost:8080/"
        },
        "id": "HuY-uUjgvGuj",
        "outputId": "3ff819a2-9ab2-48a3-b7a0-4dd6f6d1d8d6"
      },
      "source": [
        "#map the data into features vectors\n",
        "K = len(emo_dict) #number of classes\n",
        "x = Flatten()(ptm.output)\n",
        "#x = Dense(K,activation='softmax')(x)\n",
        "\n",
        "model = Model(inputs=ptm.input, outputs=x)\n",
        "model.summary()"
      ],
      "execution_count": 8,
      "outputs": [
        {
          "output_type": "stream",
          "text": [
            "Model: \"functional_1\"\n",
            "_________________________________________________________________\n",
            "Layer (type)                 Output Shape              Param #   \n",
            "=================================================================\n",
            "input_1 (InputLayer)         [(None, 200, 200, 3)]     0         \n",
            "_________________________________________________________________\n",
            "block1_conv1 (Conv2D)        (None, 200, 200, 64)      1792      \n",
            "_________________________________________________________________\n",
            "block1_conv2 (Conv2D)        (None, 200, 200, 64)      36928     \n",
            "_________________________________________________________________\n",
            "block1_pool (MaxPooling2D)   (None, 100, 100, 64)      0         \n",
            "_________________________________________________________________\n",
            "block2_conv1 (Conv2D)        (None, 100, 100, 128)     73856     \n",
            "_________________________________________________________________\n",
            "block2_conv2 (Conv2D)        (None, 100, 100, 128)     147584    \n",
            "_________________________________________________________________\n",
            "block2_pool (MaxPooling2D)   (None, 50, 50, 128)       0         \n",
            "_________________________________________________________________\n",
            "block3_conv1 (Conv2D)        (None, 50, 50, 256)       295168    \n",
            "_________________________________________________________________\n",
            "block3_conv2 (Conv2D)        (None, 50, 50, 256)       590080    \n",
            "_________________________________________________________________\n",
            "block3_conv3 (Conv2D)        (None, 50, 50, 256)       590080    \n",
            "_________________________________________________________________\n",
            "block3_pool (MaxPooling2D)   (None, 25, 25, 256)       0         \n",
            "_________________________________________________________________\n",
            "block4_conv1 (Conv2D)        (None, 25, 25, 512)       1180160   \n",
            "_________________________________________________________________\n",
            "block4_conv2 (Conv2D)        (None, 25, 25, 512)       2359808   \n",
            "_________________________________________________________________\n",
            "block4_conv3 (Conv2D)        (None, 25, 25, 512)       2359808   \n",
            "_________________________________________________________________\n",
            "block4_pool (MaxPooling2D)   (None, 12, 12, 512)       0         \n",
            "_________________________________________________________________\n",
            "block5_conv1 (Conv2D)        (None, 12, 12, 512)       2359808   \n",
            "_________________________________________________________________\n",
            "block5_conv2 (Conv2D)        (None, 12, 12, 512)       2359808   \n",
            "_________________________________________________________________\n",
            "block5_conv3 (Conv2D)        (None, 12, 12, 512)       2359808   \n",
            "_________________________________________________________________\n",
            "block5_pool (MaxPooling2D)   (None, 6, 6, 512)         0         \n",
            "_________________________________________________________________\n",
            "flatten (Flatten)            (None, 18432)             0         \n",
            "=================================================================\n",
            "Total params: 14,714,688\n",
            "Trainable params: 0\n",
            "Non-trainable params: 14,714,688\n",
            "_________________________________________________________________\n"
          ],
          "name": "stdout"
        }
      ]
    },
    {
      "cell_type": "code",
      "metadata": {
        "id": "EtiuugES0b3h"
      },
      "source": [
        "from sklearn.metrics import confusion_matrix\n",
        "from sklearn.metrics import accuracy_score, f1_score, precision_score, recall_score\n",
        "\n",
        "import matplotlib.pyplot as plt\n",
        "import seaborn as sns\n",
        "\n",
        "#Definición para el calculo de metricas multi-clase\n",
        "def calculo_metricas(CM, emociones):\n",
        "    \n",
        "    emocion = []\n",
        "    TruPos = []\n",
        "    FalPos = []\n",
        "    FalNeg = []\n",
        "    TruNeg = []\n",
        "    acc = []\n",
        "    prec = []\n",
        "    recall = []\n",
        "    f1 = []\n",
        "    \n",
        "    total = np.sum(CM)\n",
        "    \n",
        "    for i in range(len(emociones)):\n",
        "       \n",
        "        TP = CM[i][i]\n",
        "        FP = sum(CM[:,i])-TP\n",
        "        FN = sum(CM[i,:])-TP\n",
        "        TN = total - TP-FN-FP\n",
        "        a = (TP+TN)/(TP+TN+FN+FP)\n",
        "        p = TP/(TP+FP)\n",
        "        r = TP/(TP+FN)\n",
        "        f = 2*(r*p)/(r+p)\n",
        "        \n",
        "        emocion.append(emociones[i])\n",
        "        TruPos.append(TP)\n",
        "        FalPos.append(FP)\n",
        "        TruNeg.append(TN)\n",
        "        acc.append(a)\n",
        "        prec.append(p)\n",
        "        recall.append(r)\n",
        "        f1.append(f)\n",
        "    \n",
        "    metricas = pd.DataFrame()\n",
        "    metricas['Emociones']=emocion\n",
        "    metricas['Accuracy']=acc\n",
        "    metricas['Precision']=prec\n",
        "    metricas['Recall']=recall\n",
        "    metricas['F1-Score']=f1\n",
        "    \n",
        "    return metricas\n",
        "\n",
        "def graf_confusion_matrix(CM, emociones,emb):\n",
        "    fig, ax = plt.subplots(figsize=(10,10))\n",
        "    sns.heatmap(CM,annot=True,fmt='',xticklabels=emociones,yticklabels=emociones, ax=ax, cmap='Blues');\n",
        "    ax.set_title('Matriz de confusión '+emb);\n",
        "    ax.set_xlabel('Valores Predecidos');\n",
        "    ax.set_ylabel('Valores Verdaderos');\n",
        "    \n",
        "def graficar_historia_entrenamiento(log):\n",
        "    fig, axes = plt.subplots(1, 2, figsize=(14,4))\n",
        "    ax1, ax2 = axes\n",
        "    ax1.plot(log.history['loss'], label='train')\n",
        "    ax1.plot(log.history['val_loss'], label='test')\n",
        "    ax1.set_xlabel('epoch'); ax1.set_ylabel('loss')\n",
        "    ax2.plot(log.history['accuracy'], label='train')\n",
        "    ax2.plot(log.history['val_accuracy'], label='test')\n",
        "    ax2.set_xlabel('epoch'); ax2.set_ylabel('accuracy')\n",
        "    #ax2.set_ylim((0.0, 1.0))\n",
        "    for ax in axes: ax.legend()"
      ],
      "execution_count": 3,
      "outputs": []
    },
    {
      "cell_type": "code",
      "metadata": {
        "id": "mFcp65FounCv"
      },
      "source": [
        "feat = model.predict(np.random.random([1]+IMAGE_SIZE+[3]))\n",
        "D = feat.shape[1]\n",
        "\n",
        "#Modelo de red neuronal para clasificación binaria\n",
        "i = Input(shape=(D,))\n",
        "x = Dense(4096, activation='relu')(i)\n",
        "x = Dropout(0.2)(x)\n",
        "x = Dense(4096, activation='relu')(x)\n",
        "x = Dense(6, activation='softmax')(x)\n",
        "\n",
        "emo_model = Model(i ,x)\n",
        "\n",
        "emo_model.compile(\n",
        "    loss='sparse_categorical_crossentropy',\n",
        "    optimizer='adam',\n",
        "    metrics='accuracy'\n",
        ")\n"
      ],
      "execution_count": 9,
      "outputs": []
    },
    {
      "cell_type": "code",
      "metadata": {
        "colab": {
          "base_uri": "https://localhost:8080/"
        },
        "id": "KT_akQjUwIsO",
        "outputId": "bc2a53a9-5668-43c2-bf69-5dfe05348223"
      },
      "source": [
        "r = emo_model.fit(\n",
        "    X_train, Y_train,\n",
        "    batch_size=128,\n",
        "    epochs=10,\n",
        "    validation_data=(X_valid,Y_valid)\n",
        ")"
      ],
      "execution_count": 10,
      "outputs": [
        {
          "output_type": "stream",
          "text": [
            "Epoch 1/10\n",
            "27/27 [==============================] - 36s 1s/step - loss: 14.2533 - accuracy: 0.1945 - val_loss: 1.6806 - val_accuracy: 0.2917\n",
            "Epoch 2/10\n",
            "27/27 [==============================] - 36s 1s/step - loss: 1.5539 - accuracy: 0.3374 - val_loss: 1.3677 - val_accuracy: 0.4095\n",
            "Epoch 3/10\n",
            "27/27 [==============================] - 36s 1s/step - loss: 1.2968 - accuracy: 0.4315 - val_loss: 1.2005 - val_accuracy: 0.5036\n",
            "Epoch 4/10\n",
            "27/27 [==============================] - 36s 1s/step - loss: 1.1137 - accuracy: 0.5205 - val_loss: 1.1212 - val_accuracy: 0.5381\n",
            "Epoch 5/10\n",
            "27/27 [==============================] - 36s 1s/step - loss: 0.9897 - accuracy: 0.5864 - val_loss: 1.1417 - val_accuracy: 0.5131\n",
            "Epoch 6/10\n",
            "27/27 [==============================] - 36s 1s/step - loss: 0.9316 - accuracy: 0.6072 - val_loss: 1.0329 - val_accuracy: 0.5857\n",
            "Epoch 7/10\n",
            "27/27 [==============================] - 36s 1s/step - loss: 0.7893 - accuracy: 0.6834 - val_loss: 0.9033 - val_accuracy: 0.6512\n",
            "Epoch 8/10\n",
            "27/27 [==============================] - 36s 1s/step - loss: 0.7045 - accuracy: 0.7091 - val_loss: 0.9529 - val_accuracy: 0.5976\n",
            "Epoch 9/10\n",
            "27/27 [==============================] - 36s 1s/step - loss: 0.6602 - accuracy: 0.7305 - val_loss: 0.9631 - val_accuracy: 0.6214\n",
            "Epoch 10/10\n",
            "27/27 [==============================] - 36s 1s/step - loss: 0.6243 - accuracy: 0.7460 - val_loss: 1.0707 - val_accuracy: 0.6048\n"
          ],
          "name": "stdout"
        }
      ]
    },
    {
      "cell_type": "code",
      "metadata": {
        "id": "El8uYr5Bxvpa"
      },
      "source": [
        "p = emo_model.predict(X_valid)\n",
        "pred = np.argmax(p, axis=1)\n",
        "\n",
        "Y_valid = Y_valid.astype(int)\n"
      ],
      "execution_count": 11,
      "outputs": []
    },
    {
      "cell_type": "code",
      "metadata": {
        "colab": {
          "base_uri": "https://localhost:8080/",
          "height": 621
        },
        "id": "cPVCD9qXx23w",
        "outputId": "5d97075c-df62-451e-fbfb-7c7e43e4ae1d"
      },
      "source": [
        "emo_dict = {0: 'happy', 1: 'sad', 2: 'surprise', 3: 'fear', 4: 'disgust-contempt', 5: 'anger'}\n",
        "emociones_1 = list(emo_dict.values())\n",
        "\n",
        "CM_VGG = confusion_matrix(Y_valid, pred)\n",
        "graf_confusion_matrix(CM_VGG, emociones_1 ,'VGG16')\n"
      ],
      "execution_count": 12,
      "outputs": [
        {
          "output_type": "display_data",
          "data": {
            "image/png": "[encoded data removed]",
            "text/plain": [
              "<Figure size 720x720 with 2 Axes>"
            ]
          },
          "metadata": {
            "tags": [],
            "needs_background": "light"
          }
        }
      ]
    },
    {
      "cell_type": "code",
      "metadata": {
        "colab": {
          "base_uri": "https://localhost:8080/",
          "height": 238
        },
        "id": "rtqU1opZyAnE",
        "outputId": "c663de15-62e5-4f97-9bf1-c962a7740b62"
      },
      "source": [
        "m1 = calculo_metricas(CM_VGG, emociones_1)\n",
        "m1\n"
      ],
      "execution_count": 13,
      "outputs": [
        {
          "output_type": "execute_result",
          "data": {
            "text/html": [
              "<div>\n",
              "<style scoped>\n",
              "    .dataframe tbody tr th:only-of-type {\n",
              "        vertical-align: middle;\n",
              "    }\n",
              "\n",
              "    .dataframe tbody tr th {\n",
              "        vertical-align: top;\n",
              "    }\n",
              "\n",
              "    .dataframe thead th {\n",
              "        text-align: right;\n",
              "    }\n",
              "</style>\n",
              "<table border=\"1\" class=\"dataframe\">\n",
              "  <thead>\n",
              "    <tr style=\"text-align: right;\">\n",
              "      <th></th>\n",
              "      <th>Emociones</th>\n",
              "      <th>Accuracy</th>\n",
              "      <th>Precision</th>\n",
              "      <th>Recall</th>\n",
              "      <th>F1-Score</th>\n",
              "    </tr>\n",
              "  </thead>\n",
              "  <tbody>\n",
              "    <tr>\n",
              "      <th>0</th>\n",
              "      <td>happy</td>\n",
              "      <td>0.935714</td>\n",
              "      <td>0.947917</td>\n",
              "      <td>0.650000</td>\n",
              "      <td>0.771186</td>\n",
              "    </tr>\n",
              "    <tr>\n",
              "      <th>1</th>\n",
              "      <td>sad</td>\n",
              "      <td>0.795238</td>\n",
              "      <td>0.431034</td>\n",
              "      <td>0.714286</td>\n",
              "      <td>0.537634</td>\n",
              "    </tr>\n",
              "    <tr>\n",
              "      <th>2</th>\n",
              "      <td>surprise</td>\n",
              "      <td>0.880952</td>\n",
              "      <td>0.738095</td>\n",
              "      <td>0.442857</td>\n",
              "      <td>0.553571</td>\n",
              "    </tr>\n",
              "    <tr>\n",
              "      <th>3</th>\n",
              "      <td>fear</td>\n",
              "      <td>0.819048</td>\n",
              "      <td>0.463855</td>\n",
              "      <td>0.550000</td>\n",
              "      <td>0.503268</td>\n",
              "    </tr>\n",
              "    <tr>\n",
              "      <th>4</th>\n",
              "      <td>disgust-contempt</td>\n",
              "      <td>0.864286</td>\n",
              "      <td>0.644444</td>\n",
              "      <td>0.414286</td>\n",
              "      <td>0.504348</td>\n",
              "    </tr>\n",
              "    <tr>\n",
              "      <th>5</th>\n",
              "      <td>anger</td>\n",
              "      <td>0.914286</td>\n",
              "      <td>0.697674</td>\n",
              "      <td>0.857143</td>\n",
              "      <td>0.769231</td>\n",
              "    </tr>\n",
              "  </tbody>\n",
              "</table>\n",
              "</div>"
            ],
            "text/plain": [
              "          Emociones  Accuracy  Precision    Recall  F1-Score\n",
              "0             happy  0.935714   0.947917  0.650000  0.771186\n",
              "1               sad  0.795238   0.431034  0.714286  0.537634\n",
              "2          surprise  0.880952   0.738095  0.442857  0.553571\n",
              "3              fear  0.819048   0.463855  0.550000  0.503268\n",
              "4  disgust-contempt  0.864286   0.644444  0.414286  0.504348\n",
              "5             anger  0.914286   0.697674  0.857143  0.769231"
            ]
          },
          "metadata": {
            "tags": []
          },
          "execution_count": 13
        }
      ]
    }
  ]
}
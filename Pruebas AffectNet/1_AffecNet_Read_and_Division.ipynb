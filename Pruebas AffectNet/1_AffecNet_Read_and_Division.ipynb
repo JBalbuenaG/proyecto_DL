{
 "cells": [
  {
   "cell_type": "code",
   "execution_count": 1,
   "metadata": {},
   "outputs": [],
   "source": [
    "import pandas as pd\n",
    "import numpy as np\n",
    "\n",
    "path='../1_Datasets/AffectNet/Manually_Annotated_file_lists/training.csv'\n",
    "path2='../1_Datasets/AffectNet/Manually_Annotated_file_lists/validation.csv'\n",
    "df_train = pd.read_csv(path)\n",
    "colnames = list(df_train.columns)\n",
    "df_val = pd.read_csv(path2, names=colnames, header=None)\n"
   ]
  },
  {
   "cell_type": "code",
   "execution_count": 2,
   "metadata": {},
   "outputs": [
    {
     "data": {
      "text/html": [
       "<div>\n",
       "<style scoped>\n",
       "    .dataframe tbody tr th:only-of-type {\n",
       "        vertical-align: middle;\n",
       "    }\n",
       "\n",
       "    .dataframe tbody tr th {\n",
       "        vertical-align: top;\n",
       "    }\n",
       "\n",
       "    .dataframe thead th {\n",
       "        text-align: right;\n",
       "    }\n",
       "</style>\n",
       "<table border=\"1\" class=\"dataframe\">\n",
       "  <thead>\n",
       "    <tr style=\"text-align: right;\">\n",
       "      <th></th>\n",
       "      <th>subDirectory_filePath</th>\n",
       "      <th>face_x</th>\n",
       "      <th>face_y</th>\n",
       "      <th>face_width</th>\n",
       "      <th>face_height</th>\n",
       "      <th>facial_landmarks</th>\n",
       "      <th>expression</th>\n",
       "      <th>valence</th>\n",
       "      <th>arousal</th>\n",
       "    </tr>\n",
       "  </thead>\n",
       "  <tbody>\n",
       "    <tr>\n",
       "      <th>0</th>\n",
       "      <td>689/737db2483489148d783ef278f43f486c0a97e140fc...</td>\n",
       "      <td>134</td>\n",
       "      <td>134</td>\n",
       "      <td>899</td>\n",
       "      <td>899</td>\n",
       "      <td>181.64;530.91;188.32;627.82;195.1;723.37;205.2...</td>\n",
       "      <td>1</td>\n",
       "      <td>0.785714</td>\n",
       "      <td>-0.055556</td>\n",
       "    </tr>\n",
       "    <tr>\n",
       "      <th>1</th>\n",
       "      <td>392/c4db2f9b7e4b422d14b6e038f0cdc3ecee239b5532...</td>\n",
       "      <td>20</td>\n",
       "      <td>20</td>\n",
       "      <td>137</td>\n",
       "      <td>137</td>\n",
       "      <td>28.82;77.52;29.12;93.25;31.04;108.51;33.03;123...</td>\n",
       "      <td>0</td>\n",
       "      <td>-0.017253</td>\n",
       "      <td>0.004313</td>\n",
       "    </tr>\n",
       "  </tbody>\n",
       "</table>\n",
       "</div>"
      ],
      "text/plain": [
       "                               subDirectory_filePath  face_x  face_y  \\\n",
       "0  689/737db2483489148d783ef278f43f486c0a97e140fc...     134     134   \n",
       "1  392/c4db2f9b7e4b422d14b6e038f0cdc3ecee239b5532...      20      20   \n",
       "\n",
       "   face_width  face_height                                   facial_landmarks  \\\n",
       "0         899          899  181.64;530.91;188.32;627.82;195.1;723.37;205.2...   \n",
       "1         137          137  28.82;77.52;29.12;93.25;31.04;108.51;33.03;123...   \n",
       "\n",
       "   expression   valence   arousal  \n",
       "0           1  0.785714 -0.055556  \n",
       "1           0 -0.017253  0.004313  "
      ]
     },
     "execution_count": 2,
     "metadata": {},
     "output_type": "execute_result"
    }
   ],
   "source": [
    "df_train.head(2)"
   ]
  },
  {
   "cell_type": "code",
   "execution_count": 3,
   "metadata": {},
   "outputs": [
    {
     "data": {
      "text/html": [
       "<div>\n",
       "<style scoped>\n",
       "    .dataframe tbody tr th:only-of-type {\n",
       "        vertical-align: middle;\n",
       "    }\n",
       "\n",
       "    .dataframe tbody tr th {\n",
       "        vertical-align: top;\n",
       "    }\n",
       "\n",
       "    .dataframe thead th {\n",
       "        text-align: right;\n",
       "    }\n",
       "</style>\n",
       "<table border=\"1\" class=\"dataframe\">\n",
       "  <thead>\n",
       "    <tr style=\"text-align: right;\">\n",
       "      <th></th>\n",
       "      <th>subDirectory_filePath</th>\n",
       "      <th>face_x</th>\n",
       "      <th>face_y</th>\n",
       "      <th>face_width</th>\n",
       "      <th>face_height</th>\n",
       "      <th>facial_landmarks</th>\n",
       "      <th>expression</th>\n",
       "      <th>valence</th>\n",
       "      <th>arousal</th>\n",
       "    </tr>\n",
       "  </thead>\n",
       "  <tbody>\n",
       "    <tr>\n",
       "      <th>0</th>\n",
       "      <td>459/81456263be241927c7a59a2646f88c2700ce4b7cba...</td>\n",
       "      <td>147</td>\n",
       "      <td>147</td>\n",
       "      <td>981</td>\n",
       "      <td>981</td>\n",
       "      <td>233.58;512.99;246.97;623.96;262.53;733.87;285....</td>\n",
       "      <td>7</td>\n",
       "      <td>-0.653310</td>\n",
       "      <td>0.65331</td>\n",
       "    </tr>\n",
       "    <tr>\n",
       "      <th>1</th>\n",
       "      <td>680/cfa0c679da3dbe9f01e92cdeda2da1065aa50e7bf0...</td>\n",
       "      <td>99</td>\n",
       "      <td>99</td>\n",
       "      <td>666</td>\n",
       "      <td>666</td>\n",
       "      <td>98.98;341.86;107.43;422.6;123.41;503.32;144.97...</td>\n",
       "      <td>0</td>\n",
       "      <td>-0.176846</td>\n",
       "      <td>-0.07764</td>\n",
       "    </tr>\n",
       "  </tbody>\n",
       "</table>\n",
       "</div>"
      ],
      "text/plain": [
       "                               subDirectory_filePath  face_x  face_y  \\\n",
       "0  459/81456263be241927c7a59a2646f88c2700ce4b7cba...     147     147   \n",
       "1  680/cfa0c679da3dbe9f01e92cdeda2da1065aa50e7bf0...      99      99   \n",
       "\n",
       "   face_width  face_height                                   facial_landmarks  \\\n",
       "0         981          981  233.58;512.99;246.97;623.96;262.53;733.87;285....   \n",
       "1         666          666  98.98;341.86;107.43;422.6;123.41;503.32;144.97...   \n",
       "\n",
       "   expression   valence  arousal  \n",
       "0           7 -0.653310  0.65331  \n",
       "1           0 -0.176846 -0.07764  "
      ]
     },
     "execution_count": 3,
     "metadata": {},
     "output_type": "execute_result"
    }
   ],
   "source": [
    "df_val.head(2)"
   ]
  },
  {
   "cell_type": "code",
   "execution_count": 4,
   "metadata": {},
   "outputs": [
    {
     "name": "stdout",
     "output_type": "stream",
     "text": [
      "Training shape:  (414799, 9)\n",
      "Validation shape: (5500, 9)\n"
     ]
    }
   ],
   "source": [
    "print('Training shape: ',df_train.shape)\n",
    "print('Validation shape:',df_val.shape)"
   ]
  },
  {
   "cell_type": "code",
   "execution_count": 5,
   "metadata": {},
   "outputs": [
    {
     "data": {
      "text/plain": [
       "1     134415\n",
       "10     82415\n",
       "0      74874\n",
       "8      33088\n",
       "2      25459\n",
       "6      24882\n",
       "3      14090\n",
       "9      11645\n",
       "4       6378\n",
       "5       3803\n",
       "7       3750\n",
       "Name: expression, dtype: int64"
      ]
     },
     "execution_count": 5,
     "metadata": {},
     "output_type": "execute_result"
    }
   ],
   "source": [
    "df_train['expression'].value_counts()"
   ]
  },
  {
   "cell_type": "code",
   "execution_count": 6,
   "metadata": {},
   "outputs": [
    {
     "data": {
      "text/plain": [
       "7     500\n",
       "3     500\n",
       "10    500\n",
       "6     500\n",
       "2     500\n",
       "9     500\n",
       "5     500\n",
       "1     500\n",
       "8     500\n",
       "4     500\n",
       "0     500\n",
       "Name: expression, dtype: int64"
      ]
     },
     "execution_count": 6,
     "metadata": {},
     "output_type": "execute_result"
    }
   ],
   "source": [
    "df_val['expression'].value_counts()"
   ]
  },
  {
   "cell_type": "code",
   "execution_count": 7,
   "metadata": {},
   "outputs": [
    {
     "name": "stdout",
     "output_type": "stream",
     "text": [
      "Training shape:  (420299, 9)\n"
     ]
    }
   ],
   "source": [
    "df_train = pd.concat([df_train, df_val])\n",
    "df_train = df_train.reset_index(drop=True)\n",
    "print('Training shape: ',df_train.shape)"
   ]
  },
  {
   "cell_type": "markdown",
   "metadata": {},
   "source": [
    "# Adaptación del Dataset"
   ]
  },
  {
   "cell_type": "code",
   "execution_count": 8,
   "metadata": {},
   "outputs": [],
   "source": [
    "emotions_dict = {0: 'neutral', 1: 'happy',\n",
    "                 2: 'sad', 3: 'surprise',\n",
    "                 4: 'fear', 5: 'disgust',\n",
    "                 6: 'anger', 7: 'contempt',\n",
    "                 8: 'none', 9: 'uncertain',\n",
    "                10: 'non-face'}"
   ]
  },
  {
   "cell_type": "code",
   "execution_count": 9,
   "metadata": {},
   "outputs": [],
   "source": [
    "# Se seleccionan solo las emociones definidas por Ekman (Happy,Sad, Anger, Fear, Disgust/Contempt, Surprise)\n",
    "emociones_tesis = [1,2,3,4,5,6,7]"
   ]
  },
  {
   "cell_type": "code",
   "execution_count": 10,
   "metadata": {},
   "outputs": [
    {
     "data": {
      "text/plain": [
       "0    134915\n",
       "1     25959\n",
       "5     25382\n",
       "2     14590\n",
       "4      8553\n",
       "3      6878\n",
       "Name: expression, dtype: int64"
      ]
     },
     "execution_count": 10,
     "metadata": {},
     "output_type": "execute_result"
    }
   ],
   "source": [
    "keepId_train = df_train.loc[df_train['expression'].isin(emociones_tesis)]\n",
    "df_affect_ekman = keepId_train.copy()\n",
    "df_affect_ekman['expression'] = np.where(df_affect_ekman['expression']==7, 5, df_affect_ekman['expression'])\n",
    "df_affect_ekman['expression'] = df_affect_ekman['expression']-1\n",
    "df_affect_ekman['expression'].value_counts()"
   ]
  },
  {
   "cell_type": "code",
   "execution_count": 11,
   "metadata": {},
   "outputs": [
    {
     "data": {
      "text/html": [
       "<div>\n",
       "<style scoped>\n",
       "    .dataframe tbody tr th:only-of-type {\n",
       "        vertical-align: middle;\n",
       "    }\n",
       "\n",
       "    .dataframe tbody tr th {\n",
       "        vertical-align: top;\n",
       "    }\n",
       "\n",
       "    .dataframe thead th {\n",
       "        text-align: right;\n",
       "    }\n",
       "</style>\n",
       "<table border=\"1\" class=\"dataframe\">\n",
       "  <thead>\n",
       "    <tr style=\"text-align: right;\">\n",
       "      <th></th>\n",
       "      <th>subDirectory_filePath</th>\n",
       "      <th>face_x</th>\n",
       "      <th>face_y</th>\n",
       "      <th>face_width</th>\n",
       "      <th>face_height</th>\n",
       "      <th>facial_landmarks</th>\n",
       "      <th>expression</th>\n",
       "      <th>valence</th>\n",
       "      <th>arousal</th>\n",
       "    </tr>\n",
       "  </thead>\n",
       "  <tbody>\n",
       "    <tr>\n",
       "      <th>0</th>\n",
       "      <td>689/737db2483489148d783ef278f43f486c0a97e140fc...</td>\n",
       "      <td>134</td>\n",
       "      <td>134</td>\n",
       "      <td>899</td>\n",
       "      <td>899</td>\n",
       "      <td>181.64;530.91;188.32;627.82;195.1;723.37;205.2...</td>\n",
       "      <td>0</td>\n",
       "      <td>0.785714</td>\n",
       "      <td>-0.055556</td>\n",
       "    </tr>\n",
       "    <tr>\n",
       "      <th>1</th>\n",
       "      <td>944/06e9ae8d3b240eb68fa60534783eacafce2def60a8...</td>\n",
       "      <td>40</td>\n",
       "      <td>40</td>\n",
       "      <td>269</td>\n",
       "      <td>269</td>\n",
       "      <td>44.43;158.17;47.08;189.2;50.54;221.88;58.3;253...</td>\n",
       "      <td>0</td>\n",
       "      <td>0.153401</td>\n",
       "      <td>0.038890</td>\n",
       "    </tr>\n",
       "  </tbody>\n",
       "</table>\n",
       "</div>"
      ],
      "text/plain": [
       "                               subDirectory_filePath  face_x  face_y  \\\n",
       "0  689/737db2483489148d783ef278f43f486c0a97e140fc...     134     134   \n",
       "1  944/06e9ae8d3b240eb68fa60534783eacafce2def60a8...      40      40   \n",
       "\n",
       "   face_width  face_height                                   facial_landmarks  \\\n",
       "0         899          899  181.64;530.91;188.32;627.82;195.1;723.37;205.2...   \n",
       "1         269          269  44.43;158.17;47.08;189.2;50.54;221.88;58.3;253...   \n",
       "\n",
       "   expression   valence   arousal  \n",
       "0           0  0.785714 -0.055556  \n",
       "1           0  0.153401  0.038890  "
      ]
     },
     "execution_count": 11,
     "metadata": {},
     "output_type": "execute_result"
    }
   ],
   "source": [
    "df_affect_ekman = df_affect_ekman.reset_index(drop=True)\n",
    "df_affect_ekman.head(2)"
   ]
  },
  {
   "cell_type": "code",
   "execution_count": 12,
   "metadata": {},
   "outputs": [],
   "source": [
    "#Se seleccionaran de manera aleatoria solo 8600 muestras de cada emocion, siempre  y cuando se tenga menos cantidad\n",
    "emo0 = df_affect_ekman.loc[df_affect_ekman['expression']==0]\n",
    "emo1 = df_affect_ekman.loc[df_affect_ekman['expression']==1]\n",
    "emo2 = df_affect_ekman.loc[df_affect_ekman['expression']==2]\n",
    "emo3 = df_affect_ekman.loc[df_affect_ekman['expression']==3]\n",
    "emo4 = df_affect_ekman.loc[df_affect_ekman['expression']==4]\n",
    "emo5 = df_affect_ekman.loc[df_affect_ekman['expression']==5]"
   ]
  },
  {
   "cell_type": "code",
   "execution_count": 20,
   "metadata": {},
   "outputs": [],
   "source": [
    "def sampling_emotions(df, n=8600):\n",
    "    row, column = df.shape\n",
    "    \n",
    "    if (row>=n):\n",
    "        res = df.sample(n=n)\n",
    "    else:\n",
    "        res = df\n",
    "    return res"
   ]
  },
  {
   "cell_type": "code",
   "execution_count": 21,
   "metadata": {},
   "outputs": [],
   "source": [
    "emo_process0 = sampling_emotions(emo0)\n",
    "emo_process1 = sampling_emotions(emo1)\n",
    "emo_process2 = sampling_emotions(emo2)\n",
    "emo_process3 = sampling_emotions(emo3)\n",
    "emo_process4 = sampling_emotions(emo4)\n",
    "emo_process5 = sampling_emotions(emo5)"
   ]
  },
  {
   "cell_type": "code",
   "execution_count": 25,
   "metadata": {},
   "outputs": [
    {
     "name": "stdout",
     "output_type": "stream",
     "text": [
      "Training shape:  (49831, 9)\n"
     ]
    }
   ],
   "source": [
    "df_train_2 = pd.concat([emo_process0, emo_process1, emo_process2, emo_process3, emo_process4, emo_process5])\n",
    "df_train_2 = df_train_2.reset_index(drop=True)\n",
    "print('Training shape: ',df_train_2.shape)"
   ]
  },
  {
   "cell_type": "markdown",
   "metadata": {},
   "source": [
    "## Data Division\n",
    "* Train: 80%\n",
    "* Val: 10%\n",
    "* Test: 10%"
   ]
  },
  {
   "cell_type": "code",
   "execution_count": 46,
   "metadata": {},
   "outputs": [],
   "source": [
    "new_emotions_dict = {0: 'happy', 1: 'sad',\n",
    "                     2: 'surprise', 3: 'fear',\n",
    "                     4: 'disgust-contempt', 5: 'anger'}"
   ]
  },
  {
   "cell_type": "code",
   "execution_count": 27,
   "metadata": {},
   "outputs": [],
   "source": [
    "from sklearn.model_selection import train_test_split\n",
    "\n",
    "rnd_seed = 0\n",
    "df_train, df_test_val = train_test_split(df_train_2,test_size=0.2, random_state=rnd_seed)\n",
    "df_test, df_val = train_test_split(df_test_val,test_size=0.5, random_state=rnd_seed)"
   ]
  },
  {
   "cell_type": "code",
   "execution_count": 28,
   "metadata": {},
   "outputs": [
    {
     "name": "stdout",
     "output_type": "stream",
     "text": [
      "Training shape:  (39864, 9)\n",
      "Validation shape: (4984, 9)\n",
      "Test shape: (4983, 9)\n"
     ]
    }
   ],
   "source": [
    "print('Training shape: ',df_train.shape)\n",
    "print('Validation shape:',df_val.shape)\n",
    "print('Test shape:',df_test.shape)"
   ]
  },
  {
   "cell_type": "code",
   "execution_count": 29,
   "metadata": {},
   "outputs": [],
   "source": [
    "df_train = df_train.reset_index(drop=True)\n",
    "df_val = df_val.reset_index(drop=True)\n",
    "df_test = df_test.reset_index(drop=True)"
   ]
  },
  {
   "cell_type": "markdown",
   "metadata": {},
   "source": [
    "## Cropping image and saving cropped faces"
   ]
  },
  {
   "cell_type": "code",
   "execution_count": 30,
   "metadata": {},
   "outputs": [
    {
     "name": "stdout",
     "output_type": "stream",
     "text": [
      "6\n"
     ]
    },
    {
     "data": {
      "text/plain": [
       "{0: 0, 1: 0, 2: 0, 3: 0, 4: 0, 5: 0}"
      ]
     },
     "execution_count": 30,
     "metadata": {},
     "output_type": "execute_result"
    }
   ],
   "source": [
    "a = list(new_emotions_dict.keys())\n",
    "print(len(a))\n",
    "values = list(np.zeros(len(a), dtype=np.int32))\n",
    "d = dict(zip(a,values))\n",
    "d"
   ]
  },
  {
   "cell_type": "code",
   "execution_count": 48,
   "metadata": {},
   "outputs": [],
   "source": [
    "import matplotlib.pyplot as plt\n",
    "import cv2\n",
    "\n",
    "#This function only works with the AffectNet data and\n",
    "#could be adapted for similar data.\n",
    "#Make sure that the index of the dataframe are continous,\n",
    "#you can use reset_index(drop=true) of pandas \n",
    "def crop_image_save(df, img_path, emotions_dict, name='train'):\n",
    "    #Creation of a dictonary to keep a counter for each emotion of\n",
    "    #the input dictionary\n",
    "    keys = list(emotions_dict.keys())\n",
    "    values = list(np.zeros(len(keys), dtype=np.int32))\n",
    "    emotions_counter = dict(zip(keys, values)) \n",
    "    \n",
    "    #Total number of file         \n",
    "    total_files = len(df['expression'])\n",
    "    for idx in range(total_files):  \n",
    "        #if idx==20:\n",
    "        #    break;\n",
    "        img_dir = df['subDirectory_filePath'][idx] #reading the path of the image\n",
    "        x = df['face_x'][idx] #reading the coordinate x for the crop\n",
    "        y = df['face_y'][idx] #reading the coordinate y for the crop\n",
    "        h = df['face_width'][idx] #reading the width for the crop\n",
    "        w = df['face_height'][idx] #reading the height for the crop\n",
    "        emo = df['expression'][idx] #reading the emotion\n",
    "                    \n",
    "        #Reading each face\n",
    "        img = cv2.imread(imgs_path+img_dir)\n",
    "        #cropping the face\n",
    "        crop_img = img[y:y+h, x:x+w]\n",
    "        save_path='./data/'+name+'/'+str(emo)+'/'+name+'-'+emotions_dict[emo]+'-'+str(emotions_counter[emo])+'.jpg'\n",
    "        emotions_counter[emo]+=1\n",
    "        cv2.imwrite(save_path, crop_img)\n",
    "        \n",
    "        #if emo==4:\n",
    "        #    print(save_path)\n",
    "        #    plt.imshow(crop_img)\n",
    "    \n",
    "    return emotions_counter \n",
    "\n",
    "#Test of the function\n",
    "imgs_path = '../1_Datasets/AffectNet/Manually_Annotated_compressed/'\n",
    "#crop_image_save(df_train, imgs_path, new_emotions_dict, name='train')"
   ]
  },
  {
   "cell_type": "code",
   "execution_count": 49,
   "metadata": {},
   "outputs": [],
   "source": [
    "#df_train.head(20)"
   ]
  },
  {
   "cell_type": "code",
   "execution_count": 50,
   "metadata": {},
   "outputs": [
    {
     "data": {
      "text/plain": [
       "{0: 6888, 1: 6865, 2: 6889, 3: 5497, 4: 6832, 5: 6893}"
      ]
     },
     "execution_count": 50,
     "metadata": {},
     "output_type": "execute_result"
    }
   ],
   "source": [
    "crop_image_save(df_train, imgs_path, new_emotions_dict, name='train')"
   ]
  },
  {
   "cell_type": "code",
   "execution_count": 51,
   "metadata": {},
   "outputs": [
    {
     "data": {
      "text/plain": [
       "5    6893\n",
       "2    6889\n",
       "0    6888\n",
       "1    6865\n",
       "4    6832\n",
       "3    5497\n",
       "Name: expression, dtype: int64"
      ]
     },
     "execution_count": 51,
     "metadata": {},
     "output_type": "execute_result"
    }
   ],
   "source": [
    "df_train['expression'].value_counts()"
   ]
  },
  {
   "cell_type": "code",
   "execution_count": 52,
   "metadata": {},
   "outputs": [
    {
     "data": {
      "text/plain": [
       "{0: 887, 1: 870, 2: 842, 3: 653, 4: 826, 5: 905}"
      ]
     },
     "execution_count": 52,
     "metadata": {},
     "output_type": "execute_result"
    }
   ],
   "source": [
    "crop_image_save(df_test, imgs_path, new_emotions_dict, name='test')"
   ]
  },
  {
   "cell_type": "code",
   "execution_count": 53,
   "metadata": {},
   "outputs": [
    {
     "data": {
      "text/plain": [
       "5    905\n",
       "0    887\n",
       "1    870\n",
       "2    842\n",
       "4    826\n",
       "3    653\n",
       "Name: expression, dtype: int64"
      ]
     },
     "execution_count": 53,
     "metadata": {},
     "output_type": "execute_result"
    }
   ],
   "source": [
    "df_test['expression'].value_counts()"
   ]
  },
  {
   "cell_type": "code",
   "execution_count": 54,
   "metadata": {},
   "outputs": [
    {
     "data": {
      "text/plain": [
       "{0: 825, 1: 865, 2: 869, 3: 728, 4: 895, 5: 802}"
      ]
     },
     "execution_count": 54,
     "metadata": {},
     "output_type": "execute_result"
    }
   ],
   "source": [
    "crop_image_save(df_val, imgs_path, new_emotions_dict, name='validation')"
   ]
  },
  {
   "cell_type": "code",
   "execution_count": 55,
   "metadata": {},
   "outputs": [
    {
     "data": {
      "text/plain": [
       "4    895\n",
       "2    869\n",
       "1    865\n",
       "0    825\n",
       "5    802\n",
       "3    728\n",
       "Name: expression, dtype: int64"
      ]
     },
     "execution_count": 55,
     "metadata": {},
     "output_type": "execute_result"
    }
   ],
   "source": [
    "df_val['expression'].value_counts()"
   ]
  },
  {
   "cell_type": "code",
   "execution_count": null,
   "metadata": {},
   "outputs": [],
   "source": [
    "\n",
    "    "
   ]
  },
  {
   "cell_type": "code",
   "execution_count": null,
   "metadata": {},
   "outputs": [],
   "source": [
    "emotions_counter"
   ]
  }
 ],
 "metadata": {
  "kernelspec": {
   "display_name": "env_tesis",
   "language": "python",
   "name": "env_tesis"
  },
  "language_info": {
   "codemirror_mode": {
    "name": "ipython",
    "version": 3
   },
   "file_extension": ".py",
   "mimetype": "text/x-python",
   "name": "python",
   "nbconvert_exporter": "python",
   "pygments_lexer": "ipython3",
   "version": "3.8.5"
  }
 },
 "nbformat": 4,
 "nbformat_minor": 4
}
